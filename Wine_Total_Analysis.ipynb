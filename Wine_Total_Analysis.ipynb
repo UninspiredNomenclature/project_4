{
 "cells": [
  {
   "cell_type": "code",
   "execution_count": 2,
   "metadata": {
    "id": "-7C2pqd_xerh"
   },
   "outputs": [],
   "source": [
    "import numpy as np\n",
    "import pandas as pd\n",
    "import matplotlib.pyplot as plt\n",
    "from imblearn.over_sampling import SMOTE\n",
    "from sklearn.model_selection import train_test_split\n",
    "from sklearn.preprocessing import StandardScaler\n",
    "from sklearn.metrics import accuracy_score\n",
    "from sklearn.linear_model import LogisticRegression\n",
    "from sklearn.tree import DecisionTreeClassifier\n",
    "from sklearn.ensemble import RandomForestClassifier"
   ]
  },
  {
   "cell_type": "code",
   "execution_count": 4,
   "metadata": {
    "colab": {
     "base_uri": "https://localhost:8080/",
     "height": 206
    },
    "id": "K7Zi5wsrxgz0",
    "outputId": "d3d4d00e-5a2c-48e1-c3f3-605043f54a9c"
   },
   "outputs": [
    {
     "data": {
      "text/html": [
       "<div>\n",
       "<style scoped>\n",
       "    .dataframe tbody tr th:only-of-type {\n",
       "        vertical-align: middle;\n",
       "    }\n",
       "\n",
       "    .dataframe tbody tr th {\n",
       "        vertical-align: top;\n",
       "    }\n",
       "\n",
       "    .dataframe thead th {\n",
       "        text-align: right;\n",
       "    }\n",
       "</style>\n",
       "<table border=\"1\" class=\"dataframe\">\n",
       "  <thead>\n",
       "    <tr style=\"text-align: right;\">\n",
       "      <th></th>\n",
       "      <th>fixed acidity</th>\n",
       "      <th>volatile acidity</th>\n",
       "      <th>citric acid</th>\n",
       "      <th>residual sugar</th>\n",
       "      <th>chlorides</th>\n",
       "      <th>free sulfur dioxide</th>\n",
       "      <th>total sulfur dioxide</th>\n",
       "      <th>density</th>\n",
       "      <th>pH</th>\n",
       "      <th>sulphates</th>\n",
       "      <th>alcohol</th>\n",
       "      <th>quality</th>\n",
       "    </tr>\n",
       "  </thead>\n",
       "  <tbody>\n",
       "    <tr>\n",
       "      <th>0</th>\n",
       "      <td>7.4</td>\n",
       "      <td>0.70</td>\n",
       "      <td>0.00</td>\n",
       "      <td>1.9</td>\n",
       "      <td>0.076</td>\n",
       "      <td>11.0</td>\n",
       "      <td>34.0</td>\n",
       "      <td>0.9978</td>\n",
       "      <td>3.51</td>\n",
       "      <td>0.56</td>\n",
       "      <td>9.4</td>\n",
       "      <td>5</td>\n",
       "    </tr>\n",
       "    <tr>\n",
       "      <th>1</th>\n",
       "      <td>7.8</td>\n",
       "      <td>0.88</td>\n",
       "      <td>0.00</td>\n",
       "      <td>2.6</td>\n",
       "      <td>0.098</td>\n",
       "      <td>25.0</td>\n",
       "      <td>67.0</td>\n",
       "      <td>0.9968</td>\n",
       "      <td>3.20</td>\n",
       "      <td>0.68</td>\n",
       "      <td>9.8</td>\n",
       "      <td>5</td>\n",
       "    </tr>\n",
       "    <tr>\n",
       "      <th>2</th>\n",
       "      <td>7.8</td>\n",
       "      <td>0.76</td>\n",
       "      <td>0.04</td>\n",
       "      <td>2.3</td>\n",
       "      <td>0.092</td>\n",
       "      <td>15.0</td>\n",
       "      <td>54.0</td>\n",
       "      <td>0.9970</td>\n",
       "      <td>3.26</td>\n",
       "      <td>0.65</td>\n",
       "      <td>9.8</td>\n",
       "      <td>5</td>\n",
       "    </tr>\n",
       "    <tr>\n",
       "      <th>3</th>\n",
       "      <td>11.2</td>\n",
       "      <td>0.28</td>\n",
       "      <td>0.56</td>\n",
       "      <td>1.9</td>\n",
       "      <td>0.075</td>\n",
       "      <td>17.0</td>\n",
       "      <td>60.0</td>\n",
       "      <td>0.9980</td>\n",
       "      <td>3.16</td>\n",
       "      <td>0.58</td>\n",
       "      <td>9.8</td>\n",
       "      <td>6</td>\n",
       "    </tr>\n",
       "    <tr>\n",
       "      <th>4</th>\n",
       "      <td>7.4</td>\n",
       "      <td>0.70</td>\n",
       "      <td>0.00</td>\n",
       "      <td>1.9</td>\n",
       "      <td>0.076</td>\n",
       "      <td>11.0</td>\n",
       "      <td>34.0</td>\n",
       "      <td>0.9978</td>\n",
       "      <td>3.51</td>\n",
       "      <td>0.56</td>\n",
       "      <td>9.4</td>\n",
       "      <td>5</td>\n",
       "    </tr>\n",
       "  </tbody>\n",
       "</table>\n",
       "</div>"
      ],
      "text/plain": [
       "   fixed acidity  volatile acidity  citric acid  residual sugar  chlorides  \\\n",
       "0            7.4              0.70         0.00             1.9      0.076   \n",
       "1            7.8              0.88         0.00             2.6      0.098   \n",
       "2            7.8              0.76         0.04             2.3      0.092   \n",
       "3           11.2              0.28         0.56             1.9      0.075   \n",
       "4            7.4              0.70         0.00             1.9      0.076   \n",
       "\n",
       "   free sulfur dioxide  total sulfur dioxide  density    pH  sulphates  \\\n",
       "0                 11.0                  34.0   0.9978  3.51       0.56   \n",
       "1                 25.0                  67.0   0.9968  3.20       0.68   \n",
       "2                 15.0                  54.0   0.9970  3.26       0.65   \n",
       "3                 17.0                  60.0   0.9980  3.16       0.58   \n",
       "4                 11.0                  34.0   0.9978  3.51       0.56   \n",
       "\n",
       "   alcohol  quality  \n",
       "0      9.4        5  \n",
       "1      9.8        5  \n",
       "2      9.8        5  \n",
       "3      9.8        6  \n",
       "4      9.4        5  "
      ]
     },
     "execution_count": 4,
     "metadata": {},
     "output_type": "execute_result"
    }
   ],
   "source": [
    "# Load the dataset\n",
    "file_path = 'winequality-red.csv'  # Replace with the correct file path\n",
    "wine_df = pd.read_csv(file_path)\n",
    "\n",
    "# Display the first few rows to confirm data is loaded\n",
    "wine_df.head()"
   ]
  },
  {
   "cell_type": "code",
   "execution_count": 5,
   "metadata": {
    "colab": {
     "base_uri": "https://localhost:8080/",
     "height": 1000
    },
    "id": "bslMG0nbxjfD",
    "outputId": "1c897cb0-3849-4a80-d7e1-ac96adc7ac23"
   },
   "outputs": [
    {
     "name": "stdout",
     "output_type": "stream",
     "text": [
      "Mean values by quality:\n",
      "         fixed acidity  volatile acidity  citric acid  residual sugar  \\\n",
      "quality                                                                 \n",
      "3             8.360000          0.884500     0.171000        2.635000   \n",
      "4             7.779245          0.693962     0.174151        2.694340   \n",
      "5             8.167254          0.577041     0.243686        2.528855   \n",
      "6             8.347179          0.497484     0.273824        2.477194   \n",
      "7             8.872362          0.403920     0.375176        2.720603   \n",
      "8             8.566667          0.423333     0.391111        2.577778   \n",
      "\n",
      "         chlorides  free sulfur dioxide  total sulfur dioxide   density  \\\n",
      "quality                                                                   \n",
      "3         0.122500            11.000000             24.900000  0.997464   \n",
      "4         0.090679            12.264151             36.245283  0.996542   \n",
      "5         0.092736            16.983847             56.513950  0.997104   \n",
      "6         0.084956            15.711599             40.869906  0.996615   \n",
      "7         0.076588            14.045226             35.020101  0.996104   \n",
      "8         0.068444            13.277778             33.444444  0.995212   \n",
      "\n",
      "               pH  sulphates    alcohol  \n",
      "quality                                  \n",
      "3        3.398000   0.570000   9.955000  \n",
      "4        3.381509   0.596415  10.265094  \n",
      "5        3.304949   0.620969   9.899706  \n",
      "6        3.318072   0.675329  10.629519  \n",
      "7        3.290754   0.741256  11.465913  \n",
      "8        3.267222   0.767778  12.094444  \n"
     ]
    },
    {
     "data": {
      "image/png": "[encoded data removed]",
      "text/plain": [
       "<Figure size 1200x800 with 1 Axes>"
      ]
     },
     "metadata": {},
     "output_type": "display_data"
    }
   ],
   "source": [
    "# Calculate the mean values for all columns grouped by quality\n",
    "correlation_analysis_quality = wine_df.groupby('quality').mean()\n",
    "\n",
    "# Display the results\n",
    "print(\"Mean values by quality:\")\n",
    "print(correlation_analysis_quality)\n",
    "\n",
    "# Visualize the relationships with bar plots\n",
    "correlation_analysis_quality.plot(kind='bar', figsize=(12, 8), title=\"Mean Values by Quality\", ylabel=\"Mean Value\")\n",
    "plt.xlabel(\"Quality\")\n",
    "plt.xticks(rotation=0)\n",
    "plt.legend(bbox_to_anchor=(1.05, 1), loc='upper left')\n",
    "plt.tight_layout()\n",
    "plt.show()"
   ]
  },
  {
   "cell_type": "code",
   "execution_count": 6,
   "metadata": {
    "id": "ONcHHLocxmiF"
   },
   "outputs": [],
   "source": [
    "# Select acid columns as features\n",
    "X = wine_df.drop(columns=['quality'])\n",
    "\n",
    "# Define the target variable\n",
    "y = wine_df['quality']"
   ]
  },
  {
   "cell_type": "code",
   "execution_count": 7,
   "metadata": {
    "id": "JuPSsq__xrRq"
   },
   "outputs": [],
   "source": [
    "# Initialize SMOTE\n",
    "smote = SMOTE(random_state=0)\n",
    "\n",
    "# Apply SMOTE to balance the dataset\n",
    "X_res, y_res = smote.fit_resample(X, y)"
   ]
  },
  {
   "cell_type": "code",
   "execution_count": 8,
   "metadata": {
    "id": "3tjg6Irvxr4H"
   },
   "outputs": [],
   "source": [
    "# Split the resampled dataset into training and testing sets\n",
    "X_train, X_test, y_train, y_test = train_test_split(X_res, y_res, test_size=0.2, random_state=0)"
   ]
  },
  {
   "cell_type": "code",
   "execution_count": 9,
   "metadata": {
    "id": "Z6mWlMKoxuS_"
   },
   "outputs": [],
   "source": [
    "# Initialize the StandardScaler\n",
    "scaler = StandardScaler()\n",
    "\n",
    "# Fit and transform the training set\n",
    "X_train_scaled = scaler.fit_transform(X_train)\n",
    "\n",
    "# Transform the testing set\n",
    "X_test_scaled = scaler.transform(X_test)"
   ]
  },
  {
   "cell_type": "code",
   "execution_count": 10,
   "metadata": {
    "colab": {
     "base_uri": "https://localhost:8080/"
    },
    "id": "WuldKjQ-xu9e",
    "outputId": "846239a8-1df0-452f-8851-a9999ed32914"
   },
   "outputs": [
    {
     "name": "stdout",
     "output_type": "stream",
     "text": [
      "Logistic Regression Accuracy: 0.59\n"
     ]
    }
   ],
   "source": [
    "# Initialize the Logistic Regression model\n",
    "lr = LogisticRegression()\n",
    "\n",
    "# Train the Logistic Regression model\n",
    "lr.fit(X_train_scaled, y_train)\n",
    "\n",
    "# Make predictions on the test set\n",
    "y_pred_lr = lr.predict(X_test_scaled)\n",
    "\n",
    "# Calculate the accuracy score\n",
    "accuracy_lr = accuracy_score(y_test, y_pred_lr)\n",
    "print(f\"Logistic Regression Accuracy: {accuracy_lr:.2f}\")"
   ]
  },
  {
   "cell_type": "code",
   "execution_count": 11,
   "metadata": {
    "colab": {
     "base_uri": "https://localhost:8080/"
    },
    "id": "ewBo-l_sxwbU",
    "outputId": "84c18fe4-d731-49c5-8d95-c5dddb39d1f9"
   },
   "outputs": [
    {
     "name": "stdout",
     "output_type": "stream",
     "text": [
      "Decision Tree Accuracy: 0.78\n"
     ]
    }
   ],
   "source": [
    "# Initialize the Decision Tree Classifier\n",
    "dt = DecisionTreeClassifier()\n",
    "\n",
    "# Train the Decision Tree Classifier\n",
    "dt.fit(X_train_scaled, y_train)\n",
    "\n",
    "# Make predictions on the test set\n",
    "y_pred_dt = dt.predict(X_test_scaled)\n",
    "\n",
    "# Calculate the accuracy score\n",
    "accuracy_dt = accuracy_score(y_test, y_pred_dt)\n",
    "print(f\"Decision Tree Accuracy: {accuracy_dt:.2f}\")"
   ]
  },
  {
   "cell_type": "code",
   "execution_count": 12,
   "metadata": {
    "colab": {
     "base_uri": "https://localhost:8080/"
    },
    "id": "6AnXkLitxykh",
    "outputId": "665d925b-6bfe-43e9-ba1d-374b87aa1919"
   },
   "outputs": [
    {
     "name": "stdout",
     "output_type": "stream",
     "text": [
      "Random Forest Accuracy: 0.86\n"
     ]
    }
   ],
   "source": [
    "# Initialize the Random Forest Classifier\n",
    "rf = RandomForestClassifier(random_state=42)\n",
    "\n",
    "# Train the Random Forest Classifier\n",
    "rf.fit(X_train_scaled, y_train)\n",
    "\n",
    "# Make predictions on the test set\n",
    "y_pred_rf = rf.predict(X_test_scaled)\n",
    "\n",
    "# Calculate the accuracy score\n",
    "accuracy_rf = accuracy_score(y_test, y_pred_rf)\n",
    "print(f\"Random Forest Accuracy: {accuracy_rf:.2f}\")"
   ]
  },
  {
   "cell_type": "code",
   "execution_count": 13,
   "metadata": {
    "colab": {
     "base_uri": "https://localhost:8080/",
     "height": 772
    },
    "id": "fCTSPvN2ySV0",
    "outputId": "30b8e0f4-9397-42b3-8d80-df1560810084"
   },
   "outputs": [
    {
     "data": {
      "image/png": "[encoded data removed]",
      "text/plain": [
       "<Figure size 800x600 with 1 Axes>"
      ]
     },
     "metadata": {},
     "output_type": "display_data"
    },
    {
     "name": "stdout",
     "output_type": "stream",
     "text": [
      "                 Feature  Importance\n",
      "10               alcohol    0.138037\n",
      "9              sulphates    0.126515\n",
      "1       volatile acidity    0.123422\n",
      "6   total sulfur dioxide    0.110091\n",
      "4              chlorides    0.104386\n",
      "5    free sulfur dioxide    0.072915\n",
      "8                     pH    0.070990\n",
      "7                density    0.068379\n",
      "2            citric acid    0.063081\n",
      "3         residual sugar    0.061310\n",
      "0          fixed acidity    0.060875\n"
     ]
    }
   ],
   "source": [
    "# Get feature importances from the Random Forest model\n",
    "feature_importances = rf.feature_importances_\n",
    "\n",
    "# Create a DataFrame for visualization\n",
    "features = X.columns\n",
    "importance_df = pd.DataFrame({'Feature': features, 'Importance': feature_importances}).sort_values(by='Importance', ascending=False)\n",
    "\n",
    "# Plot feature importance\n",
    "plt.figure(figsize=(8, 6))\n",
    "plt.barh(importance_df['Feature'], importance_df['Importance'], color='skyblue')\n",
    "plt.xlabel('Importance')\n",
    "plt.ylabel('Features')\n",
    "plt.title('Feature Importance in Random Forest')\n",
    "plt.gca().invert_yaxis()\n",
    "plt.show()\n",
    "\n",
    "# Display sorted importance\n",
    "print(importance_df)"
   ]
  },
  {
   "cell_type": "code",
   "execution_count": null,
   "metadata": {
    "colab": {
     "base_uri": "https://localhost:8080/"
    },
    "id": "z5hM_oPlyyuq",
    "outputId": "31f36187-8a6c-4865-b4f8-f70e0f507989"
   },
   "outputs": [
    {
     "name": "stdout",
     "output_type": "stream",
     "text": [
      "Optimal Feature Levels for High-Quality Wine:\n",
      "fixed acidity            8.583671\n",
      "volatile acidity         0.416812\n",
      "citric acid              0.403104\n",
      "residual sugar           2.511778\n",
      "chlorides                0.068636\n",
      "free sulfur dioxide     13.077662\n",
      "total sulfur dioxide    32.100997\n",
      "density                  0.995220\n",
      "pH                       3.268047\n",
      "sulphates                0.757110\n",
      "alcohol                 12.118119\n",
      "dtype: float64\n"
     ]
    }
   ],
   "source": [
    "# Filter high-quality predictions\n",
    "high_quality_indices = [i for i, pred in enumerate(y_pred_rf) if pred == 8]  \n",
    "high_quality_wines = X_test.iloc[high_quality_indices]\n",
    "\n",
    "# Display the mean values of all features for high-quality predictions\n",
    "print(\"Optimal Feature Levels for High-Quality Wine:\")\n",
    "print(high_quality_wines.mean())"
   ]
  },
  {
   "cell_type": "code",
   "execution_count": null,
   "metadata": {},
   "outputs": [
    {
     "name": "stdout",
     "output_type": "stream",
     "text": [
      "Optimal Acid Levels for Medium-Quality Wine:\n",
      "fixed acidity            8.439503\n",
      "volatile acidity         0.484647\n",
      "citric acid              0.306494\n",
      "residual sugar           2.611969\n",
      "chlorides                0.086286\n",
      "free sulfur dioxide     16.130640\n",
      "total sulfur dioxide    46.187185\n",
      "density                  0.996663\n",
      "pH                       3.303306\n",
      "sulphates                0.682014\n",
      "alcohol                 10.620868\n",
      "dtype: float64\n"
     ]
    }
   ],
   "source": [
    "# Filter medium-quality predictions\n",
    "medium_quality_indices = [i for i, pred in enumerate(y_pred_rf) if pred in [5, 6, 7]]  \n",
    "medium_quality_wines = X_test.iloc[medium_quality_indices]\n",
    "\n",
    "# Display the mean values of all features for medium-quality predictions\n",
    "print(\"Optimal Acid Levels for Medium-Quality Wine:\")\n",
    "print(medium_quality_wines.mean())"
   ]
  },
  {
   "cell_type": "code",
   "execution_count": null,
   "metadata": {},
   "outputs": [
    {
     "name": "stdout",
     "output_type": "stream",
     "text": [
      "Optimal Acid Levels for Low-Quality Wine:\n",
      "fixed acidity            8.067804\n",
      "volatile acidity         0.796720\n",
      "citric acid              0.163666\n",
      "residual sugar           2.560038\n",
      "chlorides                0.102166\n",
      "free sulfur dioxide     10.207463\n",
      "total sulfur dioxide    26.417970\n",
      "density                  0.996993\n",
      "pH                       3.389302\n",
      "sulphates                0.566920\n",
      "alcohol                 10.077486\n",
      "dtype: float64\n"
     ]
    }
   ],
   "source": [
    "# Filter medium-quality predictions\n",
    "low_quality_indices = [i for i, pred in enumerate(y_pred_rf) if pred in [3, 4]]  \n",
    "low_quality_wines = X_test.iloc[low_quality_indices]\n",
    "\n",
    "# Display the mean values of all features for medium-quality predictions\n",
    "print(\"Optimal Acid Levels for Low-Quality Wine:\")\n",
    "print(low_quality_wines.mean())"
   ]
  },
  {
   "cell_type": "code",
   "execution_count": null,
   "metadata": {
    "colab": {
     "base_uri": "https://localhost:8080/"
    },
    "id": "C4HUdT8Ny9c9",
    "outputId": "c01f34b5-4654-4d65-a2b6-638efa4e3481"
   },
   "outputs": [
    {
     "name": "stdout",
     "output_type": "stream",
     "text": [
      "Perfect Feature Levels for High-Quality Wine:\n",
      "fixed acidity           10.009593\n",
      "volatile acidity         0.738357\n",
      "citric acid              0.543023\n",
      "residual sugar           8.056963\n",
      "chlorides                0.299133\n",
      "free sulfur dioxide     36.279078\n",
      "total sulfur dioxide    98.174702\n",
      "density                  0.993386\n",
      "pH                       3.387524\n",
      "sulphates                1.059320\n",
      "alcohol                 13.902266\n",
      "dtype: float64\n"
     ]
    }
   ],
   "source": [
    "# Generate synthetic combinations for all features\n",
    "synthetic_data = pd.DataFrame({\n",
    "    col: np.random.uniform(X[col].min(), X[col].max(), 1000) for col in X.columns\n",
    "})\n",
    "\n",
    "# Scale the synthetic data\n",
    "synthetic_data_scaled = scaler.transform(synthetic_data)\n",
    "\n",
    "# Predict quality for synthetic data\n",
    "synthetic_predictions = rf.predict(synthetic_data_scaled)\n",
    "\n",
    "# Filter high-quality predictions\n",
    "high_quality_synthetic = synthetic_data[synthetic_predictions == 8]  \n",
    "\n",
    "# Find the mean feature levels for \"perfect\" high-quality wine\n",
    "print(\"Perfect Feature Levels for High-Quality Wine:\")\n",
    "print(high_quality_synthetic.mean())"
   ]
  }
 ],
 "metadata": {
  "colab": {
   "provenance": []
  },
  "kernelspec": {
   "display_name": "dev",
   "language": "python",
   "name": "python3"
  },
  "language_info": {
   "codemirror_mode": {
    "name": "ipython",
    "version": 3
   },
   "file_extension": ".py",
   "mimetype": "text/x-python",
   "name": "python",
   "nbconvert_exporter": "python",
   "pygments_lexer": "ipython3",
   "version": "3.10.14"
  }
 },
 "nbformat": 4,
 "nbformat_minor": 0
}
