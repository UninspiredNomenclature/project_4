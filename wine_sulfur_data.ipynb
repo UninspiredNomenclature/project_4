{
 "cells": [
  {
   "cell_type": "markdown",
   "metadata": {},
   "source": [
    "This dataset was meant to represent the different components that make up what is considered a red wines greater value. The values that were taken into consideration where as follow: Fixed acidity, volatile acidity, citric acid, residual sugar, chlorides, free sulfur dioxide, total sulfer dioxide, density, pH, sulpahtes, and alcohol. The analysis that follows was done to focus strickly on the Free Sulfer Dioxide and Total Sulfur Dioxide of the dataset."
   ]
  },
  {
   "cell_type": "code",
   "execution_count": 1,
   "metadata": {},
   "outputs": [],
   "source": [
    "import numpy as np\n",
    "import pandas as pd\n",
    "import matplotlib.pyplot as plt\n",
    "from pathlib import Path\n",
    "from imblearn.over_sampling import SMOTE\n",
    "from sklearn.model_selection import train_test_split\n",
    "from sklearn.preprocessing import StandardScaler\n",
    "from sklearn.metrics import accuracy_score\n",
    "from sklearn.linear_model import LogisticRegression\n",
    "from sklearn.tree import DecisionTreeClassifier\n",
    "from sklearn.ensemble import RandomForestClassifier"
   ]
  },
  {
   "cell_type": "code",
   "execution_count": 2,
   "metadata": {},
   "outputs": [
    {
     "data": {
      "text/html": [
       "<div>\n",
       "<style scoped>\n",
       "    .dataframe tbody tr th:only-of-type {\n",
       "        vertical-align: middle;\n",
       "    }\n",
       "\n",
       "    .dataframe tbody tr th {\n",
       "        vertical-align: top;\n",
       "    }\n",
       "\n",
       "    .dataframe thead th {\n",
       "        text-align: right;\n",
       "    }\n",
       "</style>\n",
       "<table border=\"1\" class=\"dataframe\">\n",
       "  <thead>\n",
       "    <tr style=\"text-align: right;\">\n",
       "      <th></th>\n",
       "      <th>fixed acidity</th>\n",
       "      <th>volatile acidity</th>\n",
       "      <th>citric acid</th>\n",
       "      <th>residual sugar</th>\n",
       "      <th>chlorides</th>\n",
       "      <th>free sulfur dioxide</th>\n",
       "      <th>total sulfur dioxide</th>\n",
       "      <th>density</th>\n",
       "      <th>pH</th>\n",
       "      <th>sulphates</th>\n",
       "      <th>alcohol</th>\n",
       "      <th>quality</th>\n",
       "    </tr>\n",
       "  </thead>\n",
       "  <tbody>\n",
       "    <tr>\n",
       "      <th>0</th>\n",
       "      <td>7.4</td>\n",
       "      <td>0.70</td>\n",
       "      <td>0.00</td>\n",
       "      <td>1.9</td>\n",
       "      <td>0.076</td>\n",
       "      <td>11.0</td>\n",
       "      <td>34.0</td>\n",
       "      <td>0.9978</td>\n",
       "      <td>3.51</td>\n",
       "      <td>0.56</td>\n",
       "      <td>9.4</td>\n",
       "      <td>5</td>\n",
       "    </tr>\n",
       "    <tr>\n",
       "      <th>1</th>\n",
       "      <td>7.8</td>\n",
       "      <td>0.88</td>\n",
       "      <td>0.00</td>\n",
       "      <td>2.6</td>\n",
       "      <td>0.098</td>\n",
       "      <td>25.0</td>\n",
       "      <td>67.0</td>\n",
       "      <td>0.9968</td>\n",
       "      <td>3.20</td>\n",
       "      <td>0.68</td>\n",
       "      <td>9.8</td>\n",
       "      <td>5</td>\n",
       "    </tr>\n",
       "    <tr>\n",
       "      <th>2</th>\n",
       "      <td>7.8</td>\n",
       "      <td>0.76</td>\n",
       "      <td>0.04</td>\n",
       "      <td>2.3</td>\n",
       "      <td>0.092</td>\n",
       "      <td>15.0</td>\n",
       "      <td>54.0</td>\n",
       "      <td>0.9970</td>\n",
       "      <td>3.26</td>\n",
       "      <td>0.65</td>\n",
       "      <td>9.8</td>\n",
       "      <td>5</td>\n",
       "    </tr>\n",
       "    <tr>\n",
       "      <th>3</th>\n",
       "      <td>11.2</td>\n",
       "      <td>0.28</td>\n",
       "      <td>0.56</td>\n",
       "      <td>1.9</td>\n",
       "      <td>0.075</td>\n",
       "      <td>17.0</td>\n",
       "      <td>60.0</td>\n",
       "      <td>0.9980</td>\n",
       "      <td>3.16</td>\n",
       "      <td>0.58</td>\n",
       "      <td>9.8</td>\n",
       "      <td>6</td>\n",
       "    </tr>\n",
       "    <tr>\n",
       "      <th>4</th>\n",
       "      <td>7.4</td>\n",
       "      <td>0.70</td>\n",
       "      <td>0.00</td>\n",
       "      <td>1.9</td>\n",
       "      <td>0.076</td>\n",
       "      <td>11.0</td>\n",
       "      <td>34.0</td>\n",
       "      <td>0.9978</td>\n",
       "      <td>3.51</td>\n",
       "      <td>0.56</td>\n",
       "      <td>9.4</td>\n",
       "      <td>5</td>\n",
       "    </tr>\n",
       "  </tbody>\n",
       "</table>\n",
       "</div>"
      ],
      "text/plain": [
       "   fixed acidity  volatile acidity  citric acid  residual sugar  chlorides  \\\n",
       "0            7.4              0.70         0.00             1.9      0.076   \n",
       "1            7.8              0.88         0.00             2.6      0.098   \n",
       "2            7.8              0.76         0.04             2.3      0.092   \n",
       "3           11.2              0.28         0.56             1.9      0.075   \n",
       "4            7.4              0.70         0.00             1.9      0.076   \n",
       "\n",
       "   free sulfur dioxide  total sulfur dioxide  density    pH  sulphates  \\\n",
       "0                 11.0                  34.0   0.9978  3.51       0.56   \n",
       "1                 25.0                  67.0   0.9968  3.20       0.68   \n",
       "2                 15.0                  54.0   0.9970  3.26       0.65   \n",
       "3                 17.0                  60.0   0.9980  3.16       0.58   \n",
       "4                 11.0                  34.0   0.9978  3.51       0.56   \n",
       "\n",
       "   alcohol  quality  \n",
       "0      9.4        5  \n",
       "1      9.8        5  \n",
       "2      9.8        5  \n",
       "3      9.8        6  \n",
       "4      9.4        5  "
      ]
     },
     "execution_count": 2,
     "metadata": {},
     "output_type": "execute_result"
    }
   ],
   "source": [
    "wine_df = pd.read_csv(\n",
    "    Path(\"winequality_red.csv\")\n",
    ")\n",
    "\n",
    "wine_df.head()"
   ]
  },
  {
   "cell_type": "code",
   "execution_count": 3,
   "metadata": {},
   "outputs": [
    {
     "name": "stdout",
     "output_type": "stream",
     "text": [
      "Quality by Values\n",
      "         fixed acidity  volatile acidity  citric acid  residual sugar  \\\n",
      "quality                                                                 \n",
      "3             8.360000          0.884500     0.171000        2.635000   \n",
      "4             7.779245          0.693962     0.174151        2.694340   \n",
      "5             8.167254          0.577041     0.243686        2.528855   \n",
      "6             8.347179          0.497484     0.273824        2.477194   \n",
      "7             8.872362          0.403920     0.375176        2.720603   \n",
      "8             8.566667          0.423333     0.391111        2.577778   \n",
      "\n",
      "         chlorides  free sulfur dioxide  total sulfur dioxide   density  \\\n",
      "quality                                                                   \n",
      "3         0.122500            11.000000             24.900000  0.997464   \n",
      "4         0.090679            12.264151             36.245283  0.996542   \n",
      "5         0.092736            16.983847             56.513950  0.997104   \n",
      "6         0.084956            15.711599             40.869906  0.996615   \n",
      "7         0.076588            14.045226             35.020101  0.996104   \n",
      "8         0.068444            13.277778             33.444444  0.995212   \n",
      "\n",
      "               pH  sulphates    alcohol  \n",
      "quality                                  \n",
      "3        3.398000   0.570000   9.955000  \n",
      "4        3.381509   0.596415  10.265094  \n",
      "5        3.304949   0.620969   9.899706  \n",
      "6        3.318072   0.675329  10.629519  \n",
      "7        3.290754   0.741256  11.465913  \n",
      "8        3.267222   0.767778  12.094444  \n"
     ]
    },
    {
     "data": {
      "image/png": "[encoded data removed]",
      "text/plain": [
       "<Figure size 1000x700 with 1 Axes>"
      ]
     },
     "metadata": {},
     "output_type": "display_data"
    }
   ],
   "source": [
    "wine_quality = wine_df.groupby('quality').mean()\n",
    "\n",
    "print(\"Quality by Values\")\n",
    "print(wine_quality)\n",
    "\n",
    "wine_quality.plot(kind='bar', figsize=(10, 7), title=\"Mean Quality\", ylabel=\"Mean Value\")\n",
    "\n",
    "plt.xlabel(\"Quality\")\n",
    "plt.xticks(rotation=0)\n",
    "plt.legend(bbox_to_anchor=(1.05, 1), loc='upper left')\n",
    "plt.tight_layout()\n",
    "plt.show()\n"
   ]
  },
  {
   "cell_type": "markdown",
   "metadata": {},
   "source": [
    "Right here shows the data as a fair representation across all values taken into consideration. It has taken the mean value of all columns and grouped them by quality scoring."
   ]
  },
  {
   "cell_type": "code",
   "execution_count": 4,
   "metadata": {},
   "outputs": [
    {
     "name": "stdout",
     "output_type": "stream",
     "text": [
      "Mean sulfur quality\n",
      "         free sulfur dioxide  total sulfur dioxide\n",
      "quality                                           \n",
      "3                  11.000000             24.900000\n",
      "4                  12.264151             36.245283\n",
      "5                  16.983847             56.513950\n",
      "6                  15.711599             40.869906\n",
      "7                  14.045226             35.020101\n",
      "8                  13.277778             33.444444\n"
     ]
    },
    {
     "data": {
      "image/png": "[encoded data removed]",
      "text/plain": [
       "<Figure size 1000x700 with 1 Axes>"
      ]
     },
     "metadata": {},
     "output_type": "display_data"
    }
   ],
   "source": [
    "wine_sulfur_df = wine_df.groupby('quality')[['free sulfur dioxide', 'total sulfur dioxide']].mean()\n",
    "\n",
    "print(\"Mean sulfur quality\")\n",
    "print(wine_sulfur_df)\n",
    "\n",
    "wine_sulfur_df.plot(kind='bar', figsize=(10, 7), title=\"Mean Quality\", ylabel=\"Mean Value\")\n",
    "\n",
    "plt.xlabel(\"Quality\")\n",
    "plt.xticks(rotation=0)\n",
    "plt.legend(bbox_to_anchor=(1.05, 1), loc='lower right')\n",
    "plt.tight_layout()\n",
    "plt.show()"
   ]
  },
  {
   "cell_type": "markdown",
   "metadata": {},
   "source": [
    "Here is a cleaner breakdown of the data, fucosing strictly on sulfur dioxides. As can clearly be seen, red wine with a overall quality of 5 had the highest of both free sulfur and total sulfur dioxide. The flux in free sulfur dioxide is subtle, not ranging by more than 5-6%. The same can't be said for total suldur dioxide, ranging a 20% difference between highest and lowest points. All while lesser and greater quailty wines not only less of both overall but have less varience in purportion. It does ask the question of why sulfur dioxide values of that level would rate a quality rating of 5 amoungst the samples, and not lower one, seeing the values in wines with a rating of 7 or 8. Further analysis may be required, and that's where we're heading."
   ]
  },
  {
   "cell_type": "code",
   "execution_count": 14,
   "metadata": {},
   "outputs": [],
   "source": [
    "X = wine_df[['free sulfur dioxide', 'total sulfur dioxide']]\n",
    "y = wine_df['quality']"
   ]
  },
  {
   "cell_type": "code",
   "execution_count": 17,
   "metadata": {},
   "outputs": [],
   "source": [
    "smote = SMOTE(random_state=0)\n",
    "X_res, y_res = smote.fit_resample(X, y)"
   ]
  },
  {
   "cell_type": "code",
   "execution_count": 18,
   "metadata": {},
   "outputs": [],
   "source": [
    "X_train, X_test, y_train, y_test = train_test_split(X_res, y_res, test_size=0.2, random_state=0)"
   ]
  },
  {
   "cell_type": "code",
   "execution_count": 19,
   "metadata": {},
   "outputs": [],
   "source": [
    "scaler = StandardScaler()\n",
    "\n",
    "X_train_scaled = scaler.fit_transform(X_train)\n",
    "X_test_scaled = scaler.transform(X_test)"
   ]
  },
  {
   "cell_type": "markdown",
   "metadata": {},
   "source": [
    "Scaling was required in order to transform the data into something more suitable for the training module it was being entered into. SMOTE was used in order to help account for the manority values that would have been ignored otherwise in an unbalanced dataset such as this one. The difference in the values across the columns was too great not to address moving forward. Now while it was not required for the focus of this analysis as they possessed the largest mean values, it would have been helpful for the remaining columns, especially those with much lower mean values."
   ]
  },
  {
   "cell_type": "code",
   "execution_count": 20,
   "metadata": {},
   "outputs": [
    {
     "name": "stdout",
     "output_type": "stream",
     "text": [
      "Logistic Regression Accuracy: 0.23\n"
     ]
    }
   ],
   "source": [
    "lr = LogisticRegression()\n",
    "lr.fit(X_train_scaled, y_train)\n",
    "y_pred_lr = lr.predict(X_test_scaled)\n",
    "\n",
    "accuracy_lr = accuracy_score(y_test, y_pred_lr)\n",
    "print(f\"Logistic Regression Accuracy: {accuracy_lr:.2f}\")"
   ]
  },
  {
   "cell_type": "code",
   "execution_count": 21,
   "metadata": {},
   "outputs": [
    {
     "name": "stdout",
     "output_type": "stream",
     "text": [
      "Decision Tree Accuracy: 0.56\n"
     ]
    }
   ],
   "source": [
    "dt = DecisionTreeClassifier()\n",
    "dt.fit(X_train_scaled, y_train)\n",
    "\n",
    "y_pred_dt = dt.predict(X_test_scaled)\n",
    "\n",
    "accuracy_dt = accuracy_score(y_test, y_pred_dt)\n",
    "print(f\"Decision Tree Accuracy: {accuracy_dt:.2f}\")"
   ]
  },
  {
   "cell_type": "code",
   "execution_count": 22,
   "metadata": {},
   "outputs": [
    {
     "name": "stdout",
     "output_type": "stream",
     "text": [
      "Random Forest Accuracy: 0.59\n"
     ]
    }
   ],
   "source": [
    "rf = RandomForestClassifier(random_state=42)\n",
    "\n",
    "rf.fit(X_train_scaled, y_train)\n",
    "\n",
    "y_pred_rf = rf.predict(X_test_scaled)\n",
    "\n",
    "accuracy_rf = accuracy_score(y_test, y_pred_rf)\n",
    "print(f\"Random Forest Accuracy: {accuracy_rf:.2f}\")"
   ]
  },
  {
   "cell_type": "markdown",
   "metadata": {},
   "source": [
    "Different prediction models were used to see what if any difference between the likelyhood of finding \"Optimal Outcome Level\" when searching for wines based on this criteria."
   ]
  },
  {
   "cell_type": "code",
   "execution_count": 37,
   "metadata": {},
   "outputs": [
    {
     "data": {
      "image/png": "[encoded data removed]",
      "text/plain": [
       "<Figure size 800x600 with 1 Axes>"
      ]
     },
     "metadata": {},
     "output_type": "display_data"
    },
    {
     "name": "stdout",
     "output_type": "stream",
     "text": [
      "                Feature  Importance\n",
      "1  total sulfur dioxide    0.578143\n",
      "0   free sulfur dioxide    0.421857\n"
     ]
    }
   ],
   "source": [
    "feature_importances = rf.feature_importances_\n",
    "\n",
    "features = X.columns\n",
    "importance_df = pd.DataFrame({'Feature': features, 'Importance': feature_importances}).sort_values(by='Importance', ascending=False)\n",
    "\n",
    "plt.figure(figsize=(8, 6))\n",
    "plt.barh(importance_df['Feature'], importance_df['Importance'], color='green')\n",
    "plt.xlabel('Importance')\n",
    "plt.ylabel('Features')\n",
    "plt.title('Feature Importance in Random Forest')\n",
    "plt.gca().invert_yaxis()\n",
    "plt.show()\n",
    "\n",
    "print(importance_df)"
   ]
  },
  {
   "cell_type": "markdown",
   "metadata": {},
   "source": [
    "Using Feater Importance to determine the respective relevance of Sulfur Dioxide in wines shows that Total Sulfur Dioxide is more important but only by .16% when compared to Free Sulfur Dioxde. "
   ]
  },
  {
   "cell_type": "code",
   "execution_count": 28,
   "metadata": {},
   "outputs": [
    {
     "name": "stdout",
     "output_type": "stream",
     "text": [
      "Sulfur Levels for High-Quality:\n",
      "free sulfur dioxide     13.001679\n",
      "total sulfur dioxide    31.326519\n",
      "dtype: float64\n"
     ]
    }
   ],
   "source": [
    "higher_quality = [i for i, pred in enumerate(y_pred_rf) if pred == 8] \n",
    "high_quality_wines = X_test.iloc[higher_quality]\n",
    "\n",
    "print(\"Sulfur Levels for High-Quality:\")\n",
    "print(high_quality_wines.mean())"
   ]
  },
  {
   "cell_type": "code",
   "execution_count": 27,
   "metadata": {},
   "outputs": [
    {
     "name": "stdout",
     "output_type": "stream",
     "text": [
      "Sulfur Levels for Medium-Quality:\n",
      "free sulfur dioxide     15.658519\n",
      "total sulfur dioxide    44.519046\n",
      "dtype: float64\n"
     ]
    }
   ],
   "source": [
    "medium_quality = [i for i, pred in enumerate(y_pred_rf) if pred in [5, 6, 7]]  \n",
    "medium_quality_wines = X_test.iloc[medium_quality]\n",
    "\n",
    "print(\"Sulfur Levels for Medium-Quality:\")\n",
    "print(medium_quality_wines.mean())"
   ]
  },
  {
   "cell_type": "code",
   "execution_count": 29,
   "metadata": {},
   "outputs": [
    {
     "name": "stdout",
     "output_type": "stream",
     "text": [
      "Sulfur Levels for Lower-Quality:\n",
      "free sulfur dioxide     15.658519\n",
      "total sulfur dioxide    44.519046\n",
      "dtype: float64\n"
     ]
    }
   ],
   "source": [
    "lower_quality = [i for i, pred in enumerate(y_pred_rf) if pred in [5, 6, 7]]  \n",
    "lower_quality_wines = X_test.iloc[lower_quality]\n",
    "\n",
    "print(\"Sulfur Levels for Lower-Quality:\")\n",
    "print(lower_quality_wines.mean())"
   ]
  },
  {
   "cell_type": "markdown",
   "metadata": {},
   "source": [
    "When comparing the respective mean values for Sulfur Dioxide of the different wine qualities only 2 conclusions can truly be reached. Higher quality wines have a lower concentration of Free and Total Sulfur Dioxide that are closer together in value, 13 and 31. Whereas Medium and Lower Quality wines have a higher concentration with values further apart, 15 and 44.  "
   ]
  },
  {
   "cell_type": "code",
   "execution_count": 40,
   "metadata": {},
   "outputs": [
    {
     "name": "stdout",
     "output_type": "stream",
     "text": [
      "Perfect Sulfur Blend:\n",
      "free sulfur dioxide     25.843764\n",
      "total sulfur dioxide    61.120993\n",
      "dtype: float64\n"
     ]
    }
   ],
   "source": [
    "free_sulfur_dioxide = np.linspace(X['free sulfur dioxide'].min(), X['free sulfur dioxide'].max(), 100)\n",
    "total_sulfur_dioxide = np.linspace(X['total sulfur dioxide'].min(), X['total sulfur dioxide'].max(), 100)\n",
    "\n",
    "synthetic_data = pd.DataFrame({\n",
    "    'free sulfur dioxide': np.random.choice(free_sulfur_dioxide, 5000),\n",
    "    'total sulfur dioxide': np.random.choice(total_sulfur_dioxide, 5000)\n",
    "})\n",
    "\n",
    "synthetic_data_scaled = scaler.transform(synthetic_data)\n",
    "synthetic_predictions = rf.predict(synthetic_data_scaled)\n",
    "\n",
    "quality_synthetic = synthetic_data[synthetic_predictions == 8]\n",
    "\n",
    "print(\"Perfect Sulfur Blend:\")\n",
    "print(quality_synthetic.mean())"
   ]
  },
  {
   "cell_type": "markdown",
   "metadata": {},
   "source": [
    "Synthetic Prediction was done in order to see what the models would look like inside a larger dataset. The results varied, as they should, and this was truly done for no other reason then to establish what a great comparison might look like in respects to the focus of this analysis."
   ]
  }
 ],
 "metadata": {
  "kernelspec": {
   "display_name": "dev",
   "language": "python",
   "name": "python3"
  },
  "language_info": {
   "codemirror_mode": {
    "name": "ipython",
    "version": 3
   },
   "file_extension": ".py",
   "mimetype": "text/x-python",
   "name": "python",
   "nbconvert_exporter": "python",
   "pygments_lexer": "ipython3",
   "version": "3.10.14"
  }
 },
 "nbformat": 4,
 "nbformat_minor": 2
}
